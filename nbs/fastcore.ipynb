{
 "cells": [
  {
   "cell_type": "code",
   "execution_count": 238,
   "id": "01c20aa8-2756-4475-8584-388a225173de",
   "metadata": {},
   "outputs": [],
   "source": [
    "from fastai.data.all import *\n",
    "from fastai.vision.all import *\n",
    "from functools import wraps, partial\n",
    "import logging\n",
    "import sys"
   ]
  },
  {
   "cell_type": "code",
   "execution_count": 239,
   "id": "db1288e5-559f-4d46-bb10-d76cb052936d",
   "metadata": {},
   "outputs": [],
   "source": [
    "class A(Transform):\n",
    "    def encodes(self, x: int): return x+1\n",
    "    def encodes(self, x: str): return x*8"
   ]
  },
  {
   "cell_type": "code",
   "execution_count": 240,
   "id": "e06ce71a-9fd3-44f7-b285-5c2cb5db9e83",
   "metadata": {},
   "outputs": [
    {
     "data": {
      "text/plain": [
       "2"
      ]
     },
     "execution_count": 240,
     "metadata": {},
     "output_type": "execute_result"
    }
   ],
   "source": [
    "A().encodes(1)"
   ]
  },
  {
   "cell_type": "code",
   "execution_count": 241,
   "id": "ba761d60-8837-4154-8138-f7859a7b08d6",
   "metadata": {},
   "outputs": [
    {
     "data": {
      "text/plain": [
       "'11111111'"
      ]
     },
     "execution_count": 241,
     "metadata": {},
     "output_type": "execute_result"
    }
   ],
   "source": [
    "A().encodes(\"1\")"
   ]
  },
  {
   "cell_type": "code",
   "execution_count": 242,
   "id": "ce9290dd-fa10-4f19-8be2-0e2eda46c7c9",
   "metadata": {},
   "outputs": [
    {
     "data": {
      "text/plain": [
       "__main__.C"
      ]
     },
     "execution_count": 242,
     "metadata": {},
     "output_type": "execute_result"
    }
   ],
   "source": [
    "A().encodes(C)"
   ]
  },
  {
   "cell_type": "code",
   "execution_count": 243,
   "id": "b3dab6a0-916f-4941-9676-5eba742f2a2a",
   "metadata": {},
   "outputs": [],
   "source": [
    "logging.basicConfig(stream=sys.stderr)\n",
    "logger = logging.getLogger()\n",
    "logger.setLevel(logging.DEBUG)"
   ]
  },
  {
   "cell_type": "code",
   "execution_count": 244,
   "id": "de914c98-cd0a-4856-8260-c958ffa349d5",
   "metadata": {},
   "outputs": [],
   "source": [
    "def wrapper(obj, f=None):\n",
    "    if f is None: return partial(wrapper, obj)\n",
    "    setattr(obj, f.__name__, f)\n",
    "    return f\n",
    "\n",
    "def log(level=logging.DEBUG, msg=None):\n",
    "    def _middle(f):\n",
    "        @wraps(f)\n",
    "        def _inner(*args, **kwargs):\n",
    "            logger.log(level, msg)\n",
    "            f(*args, **kwargs)\n",
    "        return _inner\n",
    "        \n",
    "        @wrapper\n",
    "        def set_level(newlevel):\n",
    "            nonlocal level\n",
    "            level=newlevel\n",
    "\n",
    "        @wrapper\n",
    "        def set_msg(newmsg):\n",
    "            nonlocal msg\n",
    "            msg=newmsg\n",
    "            \n",
    "    return _middle"
   ]
  },
  {
   "cell_type": "code",
   "execution_count": 245,
   "id": "0fc0aa5c-0163-4470-8a7c-2b68b0a841f4",
   "metadata": {},
   "outputs": [],
   "source": [
    "class B:\n",
    "    @log(logging.WARNING, \"fuck yeah\")\n",
    "    def a(self, a): \n",
    "        \"\"\" a! \"\"\"\n",
    "        print(a+1)\n",
    "        \n",
    "    @log()\n",
    "    def b(self, b): return b/2"
   ]
  },
  {
   "cell_type": "code",
   "execution_count": 246,
   "id": "91094a03-34a3-4fa7-9a56-2af65adeae7a",
   "metadata": {},
   "outputs": [],
   "source": [
    "def get_callables(o): \n",
    "    return [_ for _ in dir(o) if callable(getattr(o, _)) and not _.startswith('_')]"
   ]
  },
  {
   "cell_type": "code",
   "execution_count": 247,
   "id": "0e920e0e-2e76-4e50-9c4b-1070a82ae03e",
   "metadata": {},
   "outputs": [
    {
     "name": "stderr",
     "output_type": "stream",
     "text": [
      "WARNING:root:fuck yeah\n"
     ]
    },
    {
     "name": "stdout",
     "output_type": "stream",
     "text": [
      "2\n"
     ]
    }
   ],
   "source": [
    "B().a(1)"
   ]
  },
  {
   "cell_type": "code",
   "execution_count": 248,
   "id": "391f5b1d-a9f6-4c5e-a04d-7538f1f26ce1",
   "metadata": {},
   "outputs": [
    {
     "name": "stderr",
     "output_type": "stream",
     "text": [
      "DEBUG:root:None\n"
     ]
    }
   ],
   "source": [
    "B().b(10)"
   ]
  },
  {
   "cell_type": "markdown",
   "id": "53d53221-3b95-481b-b89f-1dae4a970b6a",
   "metadata": {},
   "source": [
    "# Data Block"
   ]
  },
  {
   "cell_type": "code",
   "execution_count": null,
   "id": "c67d478a-f0d4-4428-aa39-03c31fafe643",
   "metadata": {},
   "outputs": [],
   "source": []
  }
 ],
 "metadata": {
  "kernelspec": {
   "display_name": "Python 3",
   "language": "python",
   "name": "python3"
  },
  "language_info": {
   "codemirror_mode": {
    "name": "ipython",
    "version": 3
   },
   "file_extension": ".py",
   "mimetype": "text/x-python",
   "name": "python",
   "nbconvert_exporter": "python",
   "pygments_lexer": "ipython3",
   "version": "3.7.4"
  }
 },
 "nbformat": 4,
 "nbformat_minor": 5
}
